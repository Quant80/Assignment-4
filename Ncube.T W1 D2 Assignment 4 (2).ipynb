{
 "cells": [
  {
   "cell_type": "code",
   "execution_count": null,
   "id": "e00d4bdb",
   "metadata": {},
   "outputs": [],
   "source": [
    "try:\n",
    "    K = input(\"Please, provide an integer input: \")\n",
    "    K = int(K)\n",
    "except ValueError:\n",
    "    print(\"Unpeacefully converted to integer!\")\n",
    "else:\n",
    "    print(\"The result if the operation is successful!\")\n",
    "\n"
   ]
  }
 ],
 "metadata": {
  "kernelspec": {
   "display_name": "Python 3",
   "language": "python",
   "name": "python3"
  },
  "language_info": {
   "codemirror_mode": {
    "name": "ipython",
    "version": 3
   },
   "file_extension": ".py",
   "mimetype": "text/x-python",
   "name": "python",
   "nbconvert_exporter": "python",
   "pygments_lexer": "ipython3",
   "version": "3.8.8"
  }
 },
 "nbformat": 4,
 "nbformat_minor": 5
}
